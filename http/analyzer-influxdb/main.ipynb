{
 "cells": [
  {
   "cell_type": "code",
   "execution_count": null,
   "metadata": {},
   "outputs": [],
   "source": [
    "from pyspark.sql import SparkSession\n",
    "\n",
    "def check_connection_to_spark_master(master_url):\n",
    "    try:\n",
    "        # Create the Spark session\n",
    "        spark = SparkSession.builder.remote(master_url).appName(\"ConnectionTest\").getOrCreate()\n",
    "\n",
    "        # Test Spark context by performing a simple operation\n",
    "        rdd = spark.sparkContext.parallelize([1, 2, 3, 4])\n",
    "        result = rdd.reduce(lambda a, b: a + b)\n",
    "        print(f\"Successfully connected to the Spark master! Sample result: {result}\")\n",
    "        \n",
    "        # Stop Spark session to clean up\n",
    "        spark.stop()\n",
    "\n",
    "        return True\n",
    "    except Exception as e:\n",
    "        print(f\"Error connecting to Spark master: {e}\")\n",
    "        return False\n",
    "\n",
    "if __name__ == \"__main__\":\n",
    "    master_url = \"sc://127.0.0.1:7077\"\n",
    "    if check_connection_to_spark_master(master_url):\n",
    "        print(\"Connection successful!\")\n",
    "    else:\n",
    "        print(\"Failed to connect to the Spark master.\")\n"
   ]
  },
  {
   "cell_type": "code",
   "execution_count": null,
   "metadata": {},
   "outputs": [],
   "source": []
  }
 ],
 "metadata": {
  "kernelspec": {
   "display_name": "pyspark-env",
   "language": "python",
   "name": "python3"
  },
  "language_info": {
   "codemirror_mode": {
    "name": "ipython",
    "version": 3
   },
   "file_extension": ".py",
   "mimetype": "text/x-python",
   "name": "python",
   "nbconvert_exporter": "python",
   "pygments_lexer": "ipython3",
   "version": "3.11.4"
  }
 },
 "nbformat": 4,
 "nbformat_minor": 2
}
